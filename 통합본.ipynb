{
  "cells": [
    {
      "cell_type": "markdown",
      "metadata": {
        "id": "92WHLz8346Yf"
      },
      "source": [
        "# **🏠 부동산 실거래가 예측**\n"
      ]
    },
    {
      "cell_type": "markdown",
      "metadata": {
        "id": "2-DJzJjvO88V"
      },
      "source": [
        "# 1. Library Import"
      ]
    },
    {
      "cell_type": "code",
      "execution_count": null,
      "metadata": {
        "id": "d-NiCLGs4ZpM"
      },
      "outputs": [],
      "source": [
        "# visualization\n",
        "import matplotlib.pyplot as plt\n",
        "import matplotlib.font_manager as fm \n",
        "\n",
        "font_path=\"G:/내 드라이브/NanumGothic.ttf\" # 폰트의 원하는 이름 설정\n",
        "fm.fontManager.addfont(font_path)           # Matplotlib에 폰트 추가\n",
        "plt.rcParams.update({'font.size': 10, 'font.family': 'NanumGothic'}) # 폰트 설정\n",
        "plt.rcParams['font.family'] = 'NanumGothic'\n",
        "import seaborn as sns\n",
        "\n",
        "# utils\n",
        "import pandas as pd\n",
        "import numpy as np\n",
        "from tqdm import tqdm\n",
        "import pickle\n",
        "import warnings;warnings.filterwarnings('ignore')\n",
        "from datetime import datetime\n",
        "\n",
        "# Model\n",
        "#from sklearnex import patch_sklearn\n",
        "#patch_sklearn()\n",
        "from sklearn.preprocessing import LabelEncoder\n",
        "from sklearn.model_selection import train_test_split\n",
        "from sklearn.metrics import mean_squared_error\n",
        "from sklearn.ensemble import RandomForestRegressor\n",
        "from lightgbm import plot_importance\n",
        "from lightgbm.sklearn import LGBMRegressor\n",
        "from catboost import CatBoostRegressor\n",
        "from sklearn import metrics\n",
        "import lightgbm as lgb\n",
        "\n",
        "import eli5\n",
        "from eli5.sklearn import PermutationImportance\n",
        "\n",
        "# 추가한 라이브러리---------------------------------------------------------------------------------------------\n",
        "from IPython.core.interactiveshell import InteractiveShell\n",
        "InteractiveShell.ast_node_interactivity = \"all\"\n",
        "\n",
        "from math import radians, sin, cos, sqrt, atan2\n",
        "\n",
        "import missingno as msno  # pip install missingno\n",
        "\n",
        "import folium # pip install folium\n",
        "\n",
        "from sklearn.model_selection import KFold\n",
        "from sklearn.model_selection import StratifiedKFold\n",
        "from sklearn.metrics import mean_squared_error\n",
        "\n",
        "import optuna\n",
        "from optuna.samplers import TPESampler\n",
        "from functools import partial\n",
        "\n",
        "import joblib\n",
        "import json\n"
      ]
    },
    {
      "cell_type": "markdown",
      "metadata": {
        "id": "OPJvYT0OPAWS"
      },
      "source": [
        "# 2. Data Load"
      ]
    },
    {
      "cell_type": "code",
      "execution_count": null,
      "metadata": {},
      "outputs": [],
      "source": [
        "data_path='../data'\n",
        "model_path = '../model'\n",
        "submission_path = '../submission'\n",
        "\n",
        "dt_train = pd.read_csv(f\"{data_path}/train.csv\")\n",
        "dt_test = pd.read_csv(f\"{data_path}/test.csv\")\n",
        "\n",
        "# 외부데이터\n",
        "subway=pd.read_csv(f'{data_path}/origin/subway_origin.csv')\n",
        "bus=pd.read_csv(f'{data_path}/origin/bus_origin.csv')\n",
        "school=pd.read_csv(f'{data_path}/origin/school_origin.csv',encoding='cp949')\n",
        "money = pd.read_csv(f'{data_path}/외부금리.csv')\n",
        "apart_info = pd.read_parquet(f'{data_path}/아파트정보.parquet')\n",
        "real_price=pd.read_csv(f'{data_path}/실거래가격지수.csv')\n",
        "income = pd.read_csv(f'{data_path}/가구총소득.csv')"
      ]
    },
    {
      "cell_type": "code",
      "execution_count": null,
      "metadata": {
        "colab": {
          "base_uri": "https://localhost:8080/"
        },
        "id": "O6tWMND66vT8",
        "outputId": "e0ba702b-6662-4723-c5a1-600d7236e597"
      },
      "outputs": [],
      "source": [
        "print('Train data shape : ', dt_train.shape, '\\nTest data shape : ', dt_test.shape)\n",
        "display(dt_train.head(1))\n",
        "display(dt_test.head(1))      "
      ]
    },
    {
      "cell_type": "markdown",
      "metadata": {},
      "source": [
        "### 2-1. train,test 병합"
      ]
    },
    {
      "cell_type": "code",
      "execution_count": null,
      "metadata": {},
      "outputs": [],
      "source": [
        "dt_train['is_test'] = 0\n",
        "dt_test['is_test'] = 1\n",
        "\n",
        "dt_full = pd.concat([dt_train, dt_test])   \n",
        "dt_full.columns = [col.replace('(', '').replace(')', '').replace('㎡','').replace('~','_').replace('-','_').replace(',','').replace('/','').replace('=','_').replace(' ','_') for col in dt_full.columns]\n",
        "dt_full.info()"
      ]
    },
    {
      "cell_type": "markdown",
      "metadata": {},
      "source": [
        "# EDA"
      ]
    },
    {
      "cell_type": "code",
      "execution_count": null,
      "metadata": {},
      "outputs": [],
      "source": [
        "# 전체 데이터 결측치 확인\n",
        "msno.matrix(dt_full,figsize=(18,7), labels=True,fontsize=12)\n",
        "\n",
        "# 중복 제거 결측치 확인\n",
        "#msno.matrix(dt_full.drop_duplicates(subset=['시군구','아파트명']),figsize=(18,7), labels=True,fontsize=12)"
      ]
    },
    {
      "cell_type": "code",
      "execution_count": null,
      "metadata": {},
      "outputs": [],
      "source": [
        "# 특정 컬럼을 기준으로 그룹화하여 실거래가 평균 보여주는 함수 \n",
        "def group_viz(data,col,plot_type):\n",
        "    \"\"\"\n",
        "    data=input_data\n",
        "    col=시각화하고자 하는 컬럼\n",
        "    plot_type= bar / plot \n",
        "    \"\"\"\n",
        "    tmp = data.groupby(col)['target'].mean().reset_index()\n",
        "    fig=plt.figure(figsize=(10, 6))\n",
        "    \n",
        "    if(plot_type=='bar'):plt.bar(tmp[col], tmp['target'])\n",
        "    else:plt.plot(tmp[col], tmp['target'], marker='o', linestyle='-', color='b')\n",
        "\n",
        "    plt.xlabel(f'{col}별')\n",
        "    plt.ylabel('평균')\n",
        "    plt.title(f'{col}별 평균 실거래가')\n",
        "\n",
        "    plt.xticks(rotation=45)\n",
        "    plt.show()"
      ]
    },
    {
      "cell_type": "markdown",
      "metadata": {},
      "source": [
        "### 3-1. 필요없는 컬럼 정리"
      ]
    },
    {
      "cell_type": "code",
      "execution_count": null,
      "metadata": {},
      "outputs": [],
      "source": [
        "# columns='계약년월'\n",
        "# group_viz(dt_full,columns,'bar')\n",
        "# dt_full[columns].unique()\n",
        "# dt_full[columns].info()"
      ]
    },
    {
      "cell_type": "code",
      "execution_count": null,
      "metadata": {},
      "outputs": [],
      "source": [
        "drop_cols=[\"해제사유발생일\",\"등기신청일자\",'중개사소재지','k_단지분류아파트주상복합등등','k_전화번호', 'k_팩스번호', '단지소개기존clob','k_사용검사일_사용승인일',\n",
        "           'k_홈페이지', 'k_등록일자','k_수정일자', '고용보험관리번호', '경비비관리형태','청소비관리형태', '기타의무임대임의_1234', '단지승인일', '사용허가여부','단지신청일']\n",
        "dt_full.drop(drop_cols,axis=1,inplace=True)"
      ]
    },
    {
      "cell_type": "code",
      "execution_count": null,
      "metadata": {},
      "outputs": [],
      "source": [
        "# 1차 컬럼 제거 후 남은 컬럼\n",
        "dt_full.columns"
      ]
    },
    {
      "cell_type": "markdown",
      "metadata": {},
      "source": [
        "## 3-2.경위도 결측값 처리"
      ]
    },
    {
      "cell_type": "code",
      "execution_count": null,
      "metadata": {},
      "outputs": [],
      "source": [
        "# 기존 데이터에는 (좌표x,좌표y)를 보면 대부분 결측치 인것을 확인할 수 있음.\n",
        "dt_full[['좌표X','좌표Y']].info()"
      ]
    },
    {
      "cell_type": "code",
      "execution_count": null,
      "metadata": {},
      "outputs": [],
      "source": [
        "loc=dt_full[['시군구','번지', '아파트명','도로명', '좌표X', '좌표Y','target']]\n",
        "loc_before= loc.drop_duplicates(subset=['시군구','아파트명'],keep='first')\n",
        "loc_before.head(3)"
      ]
    },
    {
      "cell_type": "code",
      "execution_count": null,
      "metadata": {},
      "outputs": [],
      "source": [
        "loc_before['임시주소']=loc_before['시군구']+\" \"+loc_before['번지']\n",
        "loc_before.head(3)\n",
        "#loc_before['임시주소'].to_csv(\"../data/loc_before.csv\",index=False)\n",
        "loc_after=pd.read_csv(\"../data/loc_after.csv\")\n",
        "loc_after[['시군구', '번지']] = loc_after['도로명'].str.rsplit(n=1, expand=True)\n",
        "loc_after.head(3)"
      ]
    },
    {
      "cell_type": "code",
      "execution_count": null,
      "metadata": {},
      "outputs": [],
      "source": [
        "loc_before=loc_before.dropna(subset='임시주소')\n",
        "loc_before.reset_index(inplace=True,drop=True)\n",
        "loc_after = pd.merge(loc_before, loc_after, left_index=True, right_index=True)\n",
        "loc_after.head(3)\n",
        "loc_after[['위도','경도']].info()"
      ]
    },
    {
      "cell_type": "code",
      "execution_count": null,
      "metadata": {},
      "outputs": [],
      "source": [
        "# 지오 코딩을 해도 경위도가 결측치인 데이터들은 아래 2가지 방법을 이용하여 채움\n",
        "# 1. 같은 시군구 아파트들의 경위도의 평균\n",
        "# 2. 같은 아파트명 아파트들의 평균\n",
        "missing_data = loc_after[loc_after['위도'].isnull()]\n",
        "avg_sgg = loc_after.groupby('시군구_x').agg({'위도': 'mean', '경도': 'mean'}).reset_index()\n",
        "for index, row in missing_data.iterrows():\n",
        "    sgg = row['시군구_x']\n",
        "    avg_lat = avg_sgg.loc[avg_sgg['시군구_x'] == sgg, '위도'].values[0]\n",
        "    avg_lon = avg_sgg.loc[avg_sgg['시군구_x'] == sgg, '경도'].values[0]\n",
        "    loc_after.loc[index, '위도'] = avg_lat\n",
        "    loc_after.loc[index, '경도'] = avg_lon\n",
        "    \n",
        "missing_data = loc_after[loc_after['위도'].isnull()]\n",
        "avg_apt = loc_after.groupby('아파트명').agg({'위도': 'mean', '경도': 'mean'}).reset_index()\n",
        "for index, row in missing_data.iterrows():\n",
        "    apt = row['아파트명']\n",
        "    avg_lat = avg_apt.loc[avg_apt['아파트명'] == apt, '위도'].values[0]\n",
        "    avg_lon = avg_apt.loc[avg_apt['아파트명'] == apt, '경도'].values[0]\n",
        "    loc_after.loc[index, '위도'] = avg_lat\n",
        "    loc_after.loc[index, '경도'] = avg_lon"
      ]
    },
    {
      "cell_type": "code",
      "execution_count": null,
      "metadata": {},
      "outputs": [],
      "source": [
        "# 기존 경위도가 결측치 인것들에 한해서만 지오코딩의 결과값으로 바꿈\n",
        "# 지오코딩의 아주 약간의 오차가 있기 때문.(-> 오픈스트리트맵으로 확인 결과 실제 오차는 없음)\n",
        "loc_after['좌표X'] = loc_after['좌표X'].fillna(loc_after['경도'])\n",
        "loc_after['좌표Y'] = loc_after['좌표Y'].fillna(loc_after['위도'])\n",
        "loc_after.drop(['임시주소','도로명_y','위도','경도','시군구_y','번지_y','target','도로명_x'],axis=1,inplace=True)\n",
        "loc_after.columns=['시군구', '번지', '아파트명', '좌표X', '좌표Y']"
      ]
    },
    {
      "cell_type": "code",
      "execution_count": null,
      "metadata": {},
      "outputs": [],
      "source": [
        "# 경위도 결측치가 채워진 데이터\n",
        "#loc_after.to_csv(\"../data/filled_loc.csv\",index=False)\n",
        "#loc_after=pd.read_csv('../data/filled_loc.csv')"
      ]
    },
    {
      "cell_type": "markdown",
      "metadata": {},
      "source": [
        "## 3-3. Feature engineering"
      ]
    },
    {
      "cell_type": "code",
      "execution_count": null,
      "metadata": {},
      "outputs": [],
      "source": [
        "# 본번, 부번 범주형으로 변환\n",
        "\n",
        "dt_full['본번'] = dt_full['본번'].astype('str')\n",
        "dt_full['부번'] = dt_full['부번'].astype('str')"
      ]
    },
    {
      "cell_type": "markdown",
      "metadata": {},
      "source": [
        "### 3-3-1. 계약년도, 월, 일"
      ]
    },
    {
      "cell_type": "code",
      "execution_count": null,
      "metadata": {},
      "outputs": [],
      "source": [
        "# 계약년도를 년,월로 분할\n",
        "dt_full['계약년도'] = dt_full['계약년월'].astype(str).str[:4].astype(int)\n",
        "dt_full['계약월'] = dt_full['계약년월'].astype(str).str[4:].astype(int)\n",
        "dt_full[['계약년월','계약년도','계약월']].head(3)"
      ]
    },
    {
      "cell_type": "code",
      "execution_count": null,
      "metadata": {},
      "outputs": [],
      "source": [
        "# 계약년월별 실거래가 시각화\n",
        "df=dt_full.copy()\n",
        "df['날짜'] = pd.to_datetime(df['계약년도'].astype(str) + '-' + df['계약월'].astype(str))\n",
        "df = df[['날짜', 'target']]\n",
        "grouped_data = df.groupby('날짜')['target'].mean().reset_index()\n",
        "plt.figure(figsize=(15, 6))\n",
        "sns.lineplot(x='날짜', y='target', data=grouped_data)\n",
        "plt.xlabel('날짜')\n",
        "plt.ylabel('실거래가격 평균')\n",
        "plt.title('평균 실거래가')\n",
        "plt.show()\n",
        "del df;"
      ]
    },
    {
      "cell_type": "markdown",
      "metadata": {},
      "source": [
        "### 3-3-2. 외부 데이터 결합(경위도 기준)"
      ]
    },
    {
      "cell_type": "code",
      "execution_count": null,
      "metadata": {},
      "outputs": [],
      "source": [
        "def haversine(lat1, lon1, lat2, lon2):\n",
        "    R = 6371  # 지구 반지름 (단위: km)\n",
        "\n",
        "    dlat = radians(lat2 - lat1)\n",
        "    dlon = radians(lon2 - lon1)\n",
        "\n",
        "    a = sin(dlat / 2)**2 + cos(radians(lat1)) * cos(radians(lat2)) * sin(dlon / 2)**2\n",
        "    c = 2 * atan2(sqrt(a), sqrt(1 - a))\n",
        "\n",
        "    distance = R * c\n",
        "    return distance\n",
        "\n",
        "def near_facility(data,u_dist,type,n,target_col):\n",
        "    \"\"\"\n",
        "    함수를 사용하기 전 참조외부데이터에 위도,경도 column이 존재해야함.\n",
        "    인접거리를 정해주고, 개수를 반환할지 이름을 반환할지 결정하여 u_dist와 type 설정\n",
        "    target_col도 data에 있는 컬럼이어야 함.\n",
        "    \n",
        "    \n",
        "    data=참조 데이터(버스,지하철,학교 등)\n",
        "    u_dist=인접거리(소수로.)\n",
        "    type=count:개수반환/name:이름반환\n",
        "    n=인접개수\n",
        "    target_col=참조 컬럼\n",
        "    \"\"\"\n",
        "    origin_data=loc_after.copy()\n",
        "    for i, origin_coord in enumerate(origin_data[['좌표Y', '좌표X']].values):\n",
        "        distances = [haversine(origin_coord[0], origin_coord[1], tmp_coord[0], tmp_coord[1]) for tmp_coord in data[['위도', '경도']].values]\n",
        "        # u_dist 거리 내에 있는 시설을 최대 n개 찾기\n",
        "        \n",
        "        if(type=='name'):\n",
        "            closest_facility= [idx for idx, dist in sorted(enumerate(distances), key=lambda x: x[1]) if dist <= u_dist][:n]\n",
        "            # 계산된 인접 시설을 추가 \n",
        "            for j, idx in enumerate(closest_facility):\n",
        "                for k in target_col:\n",
        "                    col_name = f'인접{k}{j+1}'\n",
        "                    origin_data.at[i, col_name] = data.iloc[idx][k]\n",
        "        else:\n",
        "            closest_facility= [idx for idx, dist in sorted(enumerate(distances), key=lambda x: x[1]) if dist <= u_dist]\n",
        "            col_name = f'인접{target_col[0]}개수'\n",
        "            origin_data.at[i, col_name] = len(closest_facility)\n",
        "                \n",
        "    return origin_data"
      ]
    },
    {
      "cell_type": "markdown",
      "metadata": {},
      "source": [
        "#### 3-3-2-1.지하철"
      ]
    },
    {
      "cell_type": "code",
      "execution_count": null,
      "metadata": {},
      "outputs": [],
      "source": [
        "subway.info(),subway.head(3)"
      ]
    },
    {
      "cell_type": "code",
      "execution_count": null,
      "metadata": {},
      "outputs": [],
      "source": [
        "# tmp=near_facility(data=subway,u_dist=0.7,type='name',n=3,target_col=['역사명','호선'])\n",
        "# tmp.head(3)\n",
        "# loc_after[['인접역사명1', '인접호선1', '인접역사명2', '인접호선2','인접역사명3', '인접호선3']]=tmp[['인접역사명1', '인접호선1', '인접역사명2', '인접호선2','인접역사명3', '인접호선3']]\n",
        "# loc_after.head(3)\n",
        "\n",
        "tmp=near_facility(data=subway,u_dist=0.8,type='len',n=None,target_col=['역사명']) # 800m인접, 개수 반환\n",
        "tmp['인접역사명개수']=tmp['인접역사명개수'].fillna(0)\n",
        "loc_after[['인접역사명개수']]=tmp[['인접역사명개수']].astype(int)\n",
        "loc_after.head(3)"
      ]
    },
    {
      "cell_type": "markdown",
      "metadata": {},
      "source": [
        "#### 3-3-2-2.학교"
      ]
    },
    {
      "cell_type": "code",
      "execution_count": null,
      "metadata": {},
      "outputs": [],
      "source": [
        "# https://data.seoul.go.kr/dataList/OA-20502/S/1/datasetView.do\n",
        "school=pd.read_csv(\"../data/origin/school_origin.csv\",encoding='cp949')\n",
        "school=school[['학교종류명','설립구분','학교명','도로명주소','도로명상세주소']]\n",
        "school.head(3)\n",
        "#school.to_csv(\"../data/school_before.csv\",index=False)\n",
        "# Naver 지오코딩 api를 이용해 주소->경위도 변환 \n",
        "school_after=pd.read_csv(\"../data/school_after.csv\") # 후처리된 school\n",
        "school[['위도','경도']]=school_after[['위도','경도']]\n",
        "school.head(3)"
      ]
    },
    {
      "cell_type": "code",
      "execution_count": null,
      "metadata": {},
      "outputs": [],
      "source": [
        "# tmp=near_facility(data=school,u_dist=0.9,type='name',n=2,target_col=['학교명','학교종류명'])\n",
        "# loc_after[['인접학교명1', '인접학교종류명1', '인접학교명2', '인접학교종류명2']]=tmp[['인접학교명1', '인접학교종류명1', '인접학교명2', '인접학교종류명2']]\n",
        "# loc_after.head(3)\n",
        "\n",
        "tmp=near_facility(data=school,u_dist=0.8,type='len',n=None,target_col=['학교명'])\n",
        "tmp['인접학교명개수']=tmp['인접학교명개수'].fillna(0)\n",
        "loc_after[['인접학교명개수']]=tmp[['인접학교명개수']].astype(int)\n",
        "loc_after.head(3)\n",
        "# 잘 붙여졌는지 확인하려면 아래 링크에 해당 아파트를 검색하여 인근에 붙여진 학교를 확인\n",
        "# https://hogangnono.com/apt/1OKb7/0"
      ]
    },
    {
      "cell_type": "markdown",
      "metadata": {},
      "source": [
        "#### 3-3-2-3.버스"
      ]
    },
    {
      "cell_type": "code",
      "execution_count": null,
      "metadata": {},
      "outputs": [],
      "source": [
        "bus.info(),bus.head(3)"
      ]
    },
    {
      "cell_type": "code",
      "execution_count": null,
      "metadata": {},
      "outputs": [],
      "source": [
        "bus.columns=['노드 ID', '정류소번호', '정류소명', '경도', '위도', '정류소 타입']"
      ]
    },
    {
      "cell_type": "code",
      "execution_count": null,
      "metadata": {},
      "outputs": [],
      "source": [
        "tmp=near_facility(data=bus,u_dist=0.3,type='len',n=None,target_col=['정류소명'])\n",
        "tmp['인접정류소명개수']=tmp['인접정류소명개수'].fillna(0)\n",
        "loc_after[['인접정류소명개수']]=tmp[['인접정류소명개수']].astype(int)\n",
        "loc_after.head(3)"
      ]
    },
    {
      "cell_type": "code",
      "execution_count": null,
      "metadata": {},
      "outputs": [],
      "source": [
        "dt_full.drop(['좌표X','좌표Y'],axis=1,inplace=True)\n",
        "dt_full= pd.merge(dt_full, loc_after, on=['시군구', '번지','아파트명'], how='left')\n",
        "dt_full.columns,dt_full.head(3)"
      ]
    },
    {
      "cell_type": "code",
      "execution_count": null,
      "metadata": {},
      "outputs": [],
      "source": [
        "dt_full_bak=dt_full.copy()"
      ]
    },
    {
      "cell_type": "markdown",
      "metadata": {},
      "source": [
        "#### 3-3-2-4. 금리"
      ]
    },
    {
      "cell_type": "code",
      "execution_count": null,
      "metadata": {},
      "outputs": [],
      "source": [
        "money.drop(columns=['통계표', '단위', '변환'], inplace=True)\n",
        "\n",
        "money.columns = [''.join(x) for x in money.columns.str.split('/')]\n",
        "\n",
        "money = pd.melt(money, id_vars=['계정항목'], var_name='년월', value_name='금리')\n",
        "money['년월'] = money['년월'].astype(np.int32)\n",
        "\n",
        "money = money.pivot(index='년월', columns='계정항목', values='금리').reset_index()\n",
        "\n",
        "money = money[['년월', '정부대출금금리', '한국은행 기준금리'] ]\n",
        "money.columns = ['계약년월', '대출금리', '기준금리']\n",
        "\n",
        "money.loc[money['계약년월'] > 202306,'대출금리'] = money[money['계약년월'] == 202306]['대출금리'].iloc[0]\n",
        "money.loc[money['계약년월'] > 202306,'기준금리'] = money[money['계약년월'] == 202306]['기준금리'].iloc[0]\n",
        "\n",
        "dt_full = dt_full.merge(money, how='left', on='계약년월')"
      ]
    },
    {
      "cell_type": "markdown",
      "metadata": {},
      "source": [
        "#### 3-3-2-5. 실거래지수"
      ]
    },
    {
      "cell_type": "code",
      "execution_count": null,
      "metadata": {},
      "outputs": [],
      "source": [
        "real_price['년월']=real_price['년월'].astype('str').apply(lambda x: '{:.2f}'.format(float(x)))\n",
        "real_price['년월'] = real_price['년월'].apply(lambda x: datetime.strptime(x, \"%Y.%m\"))\n",
        "real_price['계약월']=real_price['년월'].dt.month\n",
        "real_price['계약년도']=real_price['년월'].dt.year\n",
        "real_price.head(10)"
      ]
    },
    {
      "cell_type": "code",
      "execution_count": null,
      "metadata": {},
      "outputs": [],
      "source": [
        "plt.figure(figsize=(20, 6)) \n",
        "plt.plot(real_price['년월'], real_price['실거래지수'], marker='o', linestyle='-') \n",
        "plt.title('실거래지수 변화')  \n",
        "plt.xlabel('년월') \n",
        "plt.ylabel('실거래지수') \n",
        "plt.grid(True) \n",
        "plt.xticks(rotation=45)  \n",
        "plt.show();"
      ]
    },
    {
      "cell_type": "code",
      "execution_count": null,
      "metadata": {},
      "outputs": [],
      "source": [
        "# 2023년 7월 이후의 실거래지수는 사용하면 안되기 때문에 6월의 실거래지수를 그대로 반영 \n",
        "real_price.loc[(real_price['계약년도'] == 2023) & (real_price['계약월'] >= 7), '실거래지수']=real_price[real_price['년월']=='2023-06-01']['실거래지수'].values[0]\n",
        "real_price[(real_price['계약년도']==2023) & (real_price['계약월']>=7)]\n",
        "\n",
        "dt_full['계약월']=dt_full['계약월'].astype('int')\n",
        "dt_full=pd.merge(dt_full,real_price[['계약년도','계약월','실거래지수']],on=['계약년도','계약월'],how='left')\n",
        "dt_full[['계약년도','계약월','실거래지수']]"
      ]
    },
    {
      "cell_type": "markdown",
      "metadata": {},
      "source": [
        "#### 3-3-2-6. 아파트정보 결측치 처리"
      ]
    },
    {
      "cell_type": "code",
      "execution_count": null,
      "metadata": {},
      "outputs": [],
      "source": [
        "apart_info = pd.read_parquet(f\"{data_path}/아파트정보.parquet\")"
      ]
    },
    {
      "cell_type": "code",
      "execution_count": null,
      "metadata": {},
      "outputs": [],
      "source": [
        "apart_info = apart_info[apart_info['시도'] == '서울특별시']\n",
        "apart_info['법정주소'] = apart_info['법정동주소'].str.split(\",\").str[0]\n",
        "apart_info['아파트주소'] = apart_info['법정주소'].str.split(\" \").str[0:4].apply(lambda x: \" \".join(x))\n",
        "apart_info['승강기'] = apart_info[['승강기(승객용)', '승강기(화물용)', '승강기(승객+화물)','승강기(장애인)', '승강기(비상용)', '승강기(기타)']].max(axis=1)\n",
        "\n",
        "apart_info['차량보유대수(전체)'] = apart_info['차량보유대수(전체)'].astype('Int64')\n",
        "apart_info['차량보유대수(전기차)'] = apart_info['차량보유대수(전기차)'].astype('Int64')\n",
        "\n",
        "apart_info['전기차전용주차면수(지상)'] = apart_info['전기차전용주차면수(지상)'].replace(\"해당없음\", \"0\")\n",
        "apart_info['전기차전용주차면수(지하)'] = apart_info['전기차전용주차면수(지하)'].replace(\"해당없음\", \"0\")\n",
        "\n",
        "apart_info['전기차전용주차면수(지상)'] = apart_info['전기차전용주차면수(지상)'].astype(\"Int64\")\n",
        "apart_info['전기차전용주차면수(지하)'] = apart_info['전기차전용주차면수(지하)'].astype(float)\n",
        "\n",
        "apart_info['전기충전기설치여부(지상)'] = apart_info['전기충전기설치여부(지상)'].map({\"해당없음\":0, \"설치\":1}).astype(\"Int64\")\n",
        "apart_info['전기충전기설치여부(지하)'] = apart_info['전기충전기설치여부(지하)'].map({\"해당없음\":0, \"설치\":1}).astype(\"Int64\")\n",
        "apart_info['전기충전기설치여부'] = apart_info['전기충전기설치여부(지상)'] | apart_info['전기충전기설치여부(지하)']\n",
        "\n",
        "# 전기차전용주차면수(지하) 컬럼 이상치 처리\n",
        "apart_info.loc[apart_info['단지코드'] == \"A10023343\", '전기차전용주차면수(지하)'] = apart_info.loc[apart_info['단지코드'] == \"A10023343\", '총주차대수']\n",
        "\n",
        "apart_info['전기차전용주차면수(지하)'] = apart_info['전기차전용주차면수(지하)'].astype('Int64')\n",
        "\n",
        "apart_info['전기차전용주차면수'] = apart_info['전기차전용주차면수(지상)'] + apart_info['전기차전용주차면수(지하)']"
      ]
    },
    {
      "cell_type": "code",
      "execution_count": null,
      "metadata": {},
      "outputs": [],
      "source": [
        "basic_du = apart_info[apart_info.duplicated(subset='아파트주소', keep=False)]\n",
        "basic_du['이전분양형태'] = basic_du.groupby('아파트주소')['분양형태'].shift(-1)\n",
        "basic_du = basic_du[~((basic_du['분양형태'].str.contains(\"분양|혼합\")) & basic_du['이전분양형태'].str.contains(\"분양|혼합\"))]\n",
        "\n",
        "apart_info.drop_duplicates(subset='아파트주소', keep=False, inplace=True)"
      ]
    },
    {
      "cell_type": "code",
      "execution_count": null,
      "metadata": {},
      "outputs": [],
      "source": [
        "selected = ['분양형태', '법정주소', '단지명', '동수', '세대수', '분양세대수', '임대세대수', '관리방식', '난방방식', '복도유형', '시공사', '시행사',\n",
        "'일반관리-관리방식', '일반관리-인원', '경비관리-관리방식', '경비관리-인원', '청소관리-관리방식', '청소관리-인원', '건물구조', '전기-수전용량', '전기-세대전기계약방식',\n",
        "'승강기', '총주차대수', '지상주차대수', '지하주차대수', 'CCTV대수', '부대복리시설', '최고층수','지하층수', '차량보유대수(전체)',\n",
        "'차량보유대수(전기차)', '전기충전기설치여부(지상)', '전기충전기설치여부(지하)','전기차전용주차면수(지상)','전기차전용주차면수(지하)', '아파트주소']"
      ]
    },
    {
      "cell_type": "code",
      "execution_count": null,
      "metadata": {},
      "outputs": [],
      "source": [
        "AGGREGATIONS = {\n",
        "    '분양형태': 'first',\n",
        "    '법정주소': 'first',\n",
        "    '단지명': 'first',\n",
        "    '동수': 'sum',\n",
        "    '세대수': 'sum',\n",
        "    '분양세대수': 'sum',\n",
        "    '임대세대수': 'sum',\n",
        "    '관리방식': 'first',\n",
        "    '난방방식': 'first',\n",
        "    '복도유형': 'first',\n",
        "    '시공사': 'first',\n",
        "    '시행사': 'first',\n",
        "    '일반관리-인원': 'sum',\n",
        "    '청소관리-인원': 'sum',\n",
        "    '전기-수전용량': 'sum',\n",
        "    '전기-세대전기계약방식': 'first',\n",
        "    '승강기': 'sum',\n",
        "    '총주차대수': 'sum',\n",
        "    '지상주차대수': 'sum',\n",
        "    '지하주차대수': 'sum',\n",
        "    'CCTV대수': 'sum',\n",
        "    '부대복리시설': 'first',\n",
        "    '최고층수': 'max',\n",
        "    '지하층수': 'max',\n",
        "    '차량보유대수(전체)': 'sum',\n",
        "    '차량보유대수(전기차)': 'sum',\n",
        "    '전기충전기설치여부(지상)': 'max',\n",
        "    '전기충전기설치여부(지상)': 'max',\n",
        "    '전기차전용주차면수(지상)': 'sum',\n",
        "    '전기차전용주차면수(지하)': 'sum',\n",
        "}\n",
        "\n",
        "basic_du = basic_du[selected].groupby('아파트주소').agg(AGGREGATIONS).reset_index()\n",
        "basic_du['분양형태'] = '혼합'\n",
        "\n",
        "apart_info = pd.concat([apart_info, basic_du], axis=0)"
      ]
    },
    {
      "cell_type": "code",
      "execution_count": null,
      "metadata": {},
      "outputs": [],
      "source": [
        "dt_full['아파트주소'] = dt_full['시군구'] + \" \" + dt_full['번지']\n",
        "dt_full = dt_full.merge(apart_info[selected], how='left', on='아파트주소')\n",
        "dt_full.shape"
      ]
    },
    {
      "cell_type": "code",
      "execution_count": null,
      "metadata": {},
      "outputs": [],
      "source": [
        "dt_full.columns"
      ]
    },
    {
      "cell_type": "code",
      "execution_count": null,
      "metadata": {},
      "outputs": [],
      "source": [
        "# 카테고리가 달라서 맵핑해주기\n",
        "dt_full['분양형태'] = dt_full['분양형태'].map({\"분양\": \"분양\", \"혼합\": \"기타\", \"임대\": \"임대\"})\n",
        "index = dt_full[dt_full['k_세대타입분양형태'].isna()].index\n",
        "dt_full.loc[index, 'k_세대타입분양형태'] = dt_full.loc[index, '분양형태']\n",
        "\n",
        "# 카테고리가 달라서 맵핑해주기\n",
        "dt_full['관리방식'] = dt_full['관리방식'].map({\"위탁관리\": \"위탁관리\", \"자치관리\": \"자치관리\", \"위탁관리(직영+위탁)\": \"직영\", \"자치관리(직영)\": \"직영\", \"위탁관리(총액관리제)\": \"직영\", \"관리방식미정\":np.nan})\n",
        "index = dt_full[dt_full['k_관리방식'].isna()].index\n",
        "dt_full.loc[index, 'k_관리방식'] = dt_full.loc[index, '관리방식']\n",
        "\n",
        "index = dt_full[dt_full['k_복도유형'].isna()].index\n",
        "dt_full.loc[index, 'k_복도유형'] = dt_full.loc[index, '복도유형']\n",
        "\n",
        "index = dt_full[dt_full['k_난방방식'].isna()].index\n",
        "dt_full.loc[index, 'k_난방방식'] = dt_full.loc[index, '난방방식']\n",
        "\n",
        "index = dt_full[dt_full['k_전체동수'].isna()].index\n",
        "dt_full.loc[index, 'k_전체동수'] = dt_full.loc[index, '동수']\n",
        "\n",
        "index = dt_full[dt_full['k_전체세대수'].isna()].index\n",
        "dt_full.loc[index, 'k_전체세대수'] = dt_full.loc[index, '세대수']\n",
        "\n",
        "index = dt_full[dt_full['k_건설사시공사'].isna()].index\n",
        "dt_full.loc[index, 'k_건설사시공사'] = dt_full.loc[index, '시공사']\n",
        "\n",
        "index = dt_full[dt_full['k_시행사'].isna()].index\n",
        "dt_full.loc[index, 'k_시행사'] = dt_full.loc[index, '시행사']\n",
        "\n",
        "index = dt_full[dt_full['세대전기계약방법'].isna()].index\n",
        "dt_full.loc[index, '세대전기계약방법'] = dt_full.loc[index, '전기-세대전기계약방식']\n",
        "\n",
        "# 원본 데이터에 이상치가 너무 많아서 조금 제거\n",
        "dt_full[dt_full['주차대수'] < dt_full['k_전체세대수'].quantile(0.01)]['주차대수'] = np.nan\n",
        "\n",
        "index = dt_full[dt_full['주차대수'].isna()].index\n",
        "dt_full.loc[index, '주차대수'] = dt_full.loc[index, '총주차대수']"
      ]
    },
    {
      "cell_type": "code",
      "execution_count": null,
      "metadata": {},
      "outputs": [],
      "source": [
        "drop_cols2 = ['분양형태', '관리방식', '일반관리-관리방식', '경비관리-관리방식', '청소관리-관리방식', '건물구조',\n",
        "             '복도유형', '난방방식', '동수', '세대수', '시공사', '시행사', '전기-세대전기계약방식', \n",
        "             '총주차대수', '부대복리시설', '전기충전기설치여부(지상)', '전기충전기설치여부(지하)', \n",
        "             '전기차전용주차면수(지상)', '전기차전용주차면수(지하)']\n",
        "dt_full.drop(columns=drop_cols2, inplace=True)\n",
        "dt_full.columns"
      ]
    },
    {
      "cell_type": "code",
      "execution_count": null,
      "metadata": {},
      "outputs": [],
      "source": [
        "dt_full[\"계약년월일\"] = dt_full[\"계약년월\"].astype(str) + dt_full[\"계약일\"].astype(str)\n",
        "dt_full[\"계약년월일\"] = pd.to_datetime(dt_full['계약년월일'], format='%Y%m%d')\n",
        "\n",
        "dt_full['계약년'] = dt_full['계약년월'].astype('str').map(lambda x : x[:4])\n",
        "dt_full['계약월'] = dt_full['계약년월'].astype('str').map(lambda x : x[4:])\n",
        "\n",
        "dt_full['풀아파트명'] = dt_full['시군구'] + \" \" + dt_full['아파트명']\n",
        "\n",
        "dt_full['주소'] = dt_full['시군구'] + \" \" + dt_full['번지']\n",
        "\n",
        "dt_full['구'] = dt_full['시군구'].map(lambda x : x.split()[1])\n",
        "dt_full['동'] = dt_full['시군구'].map(lambda x : x.split()[2])"
      ]
    },
    {
      "cell_type": "code",
      "execution_count": null,
      "metadata": {},
      "outputs": [],
      "source": [
        "dt_full['평단가'] = dt_full['target'] / dt_full['전용면적'] * 0.3025\n",
        "\n",
        "target_encoding = dt_full.groupby('구')['평단가'].mean()\n",
        "dt_full['구평단가'] = dt_full['구'].map(target_encoding)\n",
        "\n",
        "target_encoding = dt_full.groupby('동')['평단가'].mean()\n",
        "dt_full['동평단가'] = dt_full['동'].map(target_encoding)\n",
        "\n",
        "dt_full['구순위'] = dt_full['구평단가'].rank(method='dense')\n",
        "dt_full['동순위'] = dt_full['동평단가'].rank(method='dense')\n",
        "\n",
        "target_encoding = dt_full.groupby('풀아파트명')['평단가'].mean()\n",
        "dt_full['아파트평단가'] = dt_full['풀아파트명'].map(target_encoding)\n",
        "dt_full['아파트순위'] = dt_full['아파트평단가'].rank(method='dense')"
      ]
    },
    {
      "cell_type": "code",
      "execution_count": null,
      "metadata": {},
      "outputs": [],
      "source": [
        "dt_full['계약년월3'] = pd.to_datetime(dt_full['계약년월일']).dt.to_period(\"Q\").dt.to_timestamp()\n",
        "temp = dt_full.groupby(['풀아파트명', '계약년월3'])['평단가'].mean().reset_index(name=\"3월평단가\")\n",
        "\n",
        "AGG = {'3월평단가': [ 'std', 'skew', ('kurt', lambda x: x.kurt())]}\n",
        "temp = temp.groupby('풀아파트명').agg(AGG)\n",
        "temp.columns = ['_'.join(col).strip() for col in temp.columns.values]\n",
        "dt_full = dt_full.merge(temp, on='풀아파트명', how='left')\n",
        "del dt_full['계약년월3']"
      ]
    },
    {
      "cell_type": "code",
      "execution_count": null,
      "metadata": {},
      "outputs": [],
      "source": [
        "gangnam = ['강서구', '영등포구', '동작구', '서초구', '강남구', '송파구', '강동구']\n",
        "\n",
        "# '구' 열에 대해 강남 여부를 나타내는 '강남여부' 열 생성\n",
        "dt_full['강남여부'] = dt_full['구'].apply(lambda x: 1 if x in gangnam else 0)"
      ]
    },
    {
      "cell_type": "code",
      "execution_count": null,
      "metadata": {},
      "outputs": [],
      "source": [
        "dt_full['신축여부'] = dt_full['건축년도'].apply(lambda x: 1 if x >= 2009 else 0)"
      ]
    },
    {
      "cell_type": "code",
      "execution_count": null,
      "metadata": {},
      "outputs": [],
      "source": [
        "dt_full['세대당주차대수'] = dt_full['주차대수'] / dt_full['k_전체세대수']\n",
        "dt_full['세대당승강기대수'] = dt_full['승강기'] / dt_full['k_전체세대수'] \n",
        "dt_full['고층도'] = dt_full['층'] / dt_full['최고층수']\n",
        "dt_full['동세대수'] = dt_full['k_전체세대수'] / dt_full['k_전체동수']"
      ]
    },
    {
      "cell_type": "code",
      "execution_count": null,
      "metadata": {},
      "outputs": [],
      "source": [
        "# 월별 건수\n",
        "temp = dt_full.groupby(['풀아파트명', '계약년월']).size().reset_index(name='월거래건수')\n",
        "dt_full = dt_full.merge(temp, how='left', on=['풀아파트명', '계약년월'])\n",
        "\n",
        "AGG = {'월거래건수': ['mean', 'std', 'skew', ('kurt', lambda x: x.kurt())]}\n",
        "temp = temp.groupby('풀아파트명').agg(AGG)\n",
        "temp.columns = ['_'.join(col).strip() for col in temp.columns.values]\n",
        "\n",
        "dt_full = dt_full.merge(temp, on='풀아파트명', how='left')"
      ]
    },
    {
      "cell_type": "code",
      "execution_count": null,
      "metadata": {},
      "outputs": [],
      "source": [
        "# 최근 5년 건수\n",
        "train_max_date = dt_full[dt_full[\"is_test\"] == 0]['계약년월일'].max()\n",
        "lag5year = dt_full[dt_full['계약년월일'] > train_max_date - pd.DateOffset(years=5)]\n",
        "\n",
        "target_encoding = lag5year.groupby('풀아파트명')['계약년월일'].size()\n",
        "dt_full['아파트거래횟수5'] = dt_full['풀아파트명'].map(target_encoding)"
      ]
    },
    {
      "cell_type": "code",
      "execution_count": null,
      "metadata": {},
      "outputs": [],
      "source": [
        "AGG = {'전용면적':['mean', 'std', ('kurt', lambda x: x.kurt()), 'size']}\n",
        "temp = dt_full.groupby('풀아파트명').agg(AGG)\n",
        "temp.columns = ['_'.join(col).strip() for col in temp.columns.values]\n",
        "dt_full = dt_full.merge(temp, how='left', on='풀아파트명')"
      ]
    },
    {
      "cell_type": "code",
      "execution_count": null,
      "metadata": {},
      "outputs": [],
      "source": [
        "dt_full['전용면적범주'] = pd.cut(dt_full['전용면적'], bins=[0, 40, 60, 85, 135, float('inf')], labels=[0, 1, 2, 3, 4], right=False)\n",
        "dt_full['전용면적범주']=dt_full['전용면적범주'].astype('int')\n",
        "\n",
        "temp = dt_full.pivot_table(index='풀아파트명', columns='전용면적범주', aggfunc='size', fill_value=0)\n",
        "temp.columns = [temp.columns.name+\"_\"+str(col) for col in temp.columns.values]\n",
        "dt_full = dt_full.merge(temp, how='left', on='풀아파트명')\n",
        "\n",
        "dt_full['범주4비율'] = dt_full['전용면적범주_4'] / dt_full['전용면적_size']"
      ]
    },
    {
      "cell_type": "code",
      "execution_count": null,
      "metadata": {},
      "outputs": [],
      "source": [
        "temp = dt_full.copy()\n",
        "temp = temp.sort_values(by=['풀아파트명', '계약년월일'])\n",
        "temp['아파트이전계약일'] = temp.groupby('풀아파트명')['계약년월일'].shift(1)\n",
        "dt_full.loc[temp.index, '아파트이전계약일'] = temp['아파트이전계약일']\n",
        "dt_full['이전계약_diff'] =  (dt_full['계약년월일'] - dt_full['아파트이전계약일']).dt.days\n",
        "\n",
        "del dt_full['아파트이전계약일']"
      ]
    },
    {
      "cell_type": "markdown",
      "metadata": {},
      "source": [
        "#### 3-3-2-7. 권역별 평균 소득"
      ]
    },
    {
      "cell_type": "code",
      "execution_count": null,
      "metadata": {},
      "outputs": [],
      "source": [
        "def map_region(district):\n",
        "\n",
        "    region_mapping = {\n",
        "    '동남권': ['강남구', '서초구', '송파구', '강동구'],\n",
        "    '서남권': ['동작구', '관악구', '금천구', '영등포구', '구로구', '양천구', '강서구'],\n",
        "    '서북권': ['은평구', '서대문구', '마포구'],\n",
        "    '도심권': ['종로구', '중구', '용산구'],\n",
        "    '동북권': ['성동구', '광진구', '동대문구', '중랑구','성북구', '강북구', '도봉구', '노원구']\n",
        "    }\n",
        "\n",
        "    for region, districts in region_mapping.items():\n",
        "        if district in districts:\n",
        "            return region\n",
        "    return '기타'  # 만약 매핑되지 않는 구가 있다면 '기타'로 분류"
      ]
    },
    {
      "cell_type": "code",
      "execution_count": null,
      "metadata": {},
      "outputs": [],
      "source": [
        "df_5_regions = income[income['특성별(1)'] == '5권역별']\n",
        "dt_full['권역'] = dt_full['구'].map(map_region)\n",
        "\n",
        "sorted_df = df_5_regions.sort_values(by='2020.7', ascending=False)\n",
        "sorted_df['2020.7'] =sorted_df['2020.7'].astype('float')  \n"
      ]
    },
    {
      "cell_type": "code",
      "execution_count": null,
      "metadata": {},
      "outputs": [],
      "source": [
        "income_data = sorted_df.set_index('특성별(2)')['2020.7'].to_dict()\n",
        "min_income = min(income_data.values())\n",
        "max_income = max(income_data.values())\n",
        "\n",
        "def normalize_income(income):\n",
        "    return (income - min_income) / (max_income - min_income)\n",
        "\n",
        "normalized_scores = {region: normalize_income(income) for region, income in income_data.items()}\n",
        "\n",
        "dt_full['income'] = dt_full['권역'].map(normalized_scores)\n",
        "dt_full.drop(columns=['권역'], inplace=True)"
      ]
    },
    {
      "cell_type": "markdown",
      "metadata": {},
      "source": [
        "### 3-3-3. 최근거래가 추가"
      ]
    },
    {
      "cell_type": "code",
      "execution_count": null,
      "metadata": {},
      "outputs": [],
      "source": [
        "def process_group(group):\n",
        "    matching_rows = group.sort_values(by=['계약년월일'])[['idx', '아파트명', '전용면적범주', 'target', '계약년월일']]\n",
        "    matching_rows['최근거래가'] = matching_rows['target'].shift(1)\n",
        "    return matching_rows\n",
        "\n",
        "dt_full['idx']=dt_full.index\n",
        "dt_tmp = []\n",
        "for _, group in tqdm(dt_full.groupby(['구', '아파트명', '전용면적범주'])):\n",
        "    dt_tmp.append(process_group(group))\n",
        "dt_tmp = pd.concat(dt_tmp, ignore_index=True)\n",
        "dt_tmp.head(3)"
      ]
    },
    {
      "cell_type": "code",
      "execution_count": null,
      "metadata": {},
      "outputs": [],
      "source": [
        "dt_full = pd.merge(dt_full, dt_tmp[['idx', '최근거래가']], left_on='idx', right_on='idx', how='left')\n",
        "dt_full.reset_index(drop=True, inplace=True)\n",
        "#dt_full[dt_full['아파트명']=='반포자이'].sort_values(by='계약일자')[['전용면적','계약일자','target','최근거래가']].head(50)\n",
        "dt_full"
      ]
    },
    {
      "cell_type": "code",
      "execution_count": null,
      "metadata": {},
      "outputs": [],
      "source": [
        "dt_full['최근거래가'] = dt_full['최근거래가'].fillna(dt_full.groupby(['아파트명', '동','전용면적범주'])['target'].transform('mean'))\n",
        "#dt_full2[dt_full2['아파트명']=='개포6차우성'].sort_values(by='계약일자')[['전용면적','계약일자','target','최근거래가']]\n",
        "dt_full['최근거래가'] = dt_full['최근거래가'].fillna(dt_full.groupby(['아파트명', '동'])['target'].transform('mean'))\n",
        "dt_full['최근거래가'] = dt_full['최근거래가'].fillna(dt_full.groupby(['동'])['target'].transform('mean'))\n",
        "dt_full[dt_full['최근거래가'].isna()==1]\n",
        "dt_full.drop(['idx'],axis=1,inplace=True)"
      ]
    },
    {
      "cell_type": "code",
      "execution_count": null,
      "metadata": {},
      "outputs": [],
      "source": [
        "dt_full_bak2=dt_full.copy()"
      ]
    },
    {
      "cell_type": "markdown",
      "metadata": {},
      "source": [
        "## 3-4. 결측치 채우기"
      ]
    },
    {
      "cell_type": "code",
      "execution_count": null,
      "metadata": {},
      "outputs": [],
      "source": [
        "dt_full.isnull().sum()"
      ]
    },
    {
      "cell_type": "code",
      "execution_count": null,
      "metadata": {},
      "outputs": [],
      "source": [
        "num_col = []\n",
        "cat_col = []\n",
        "rest = []\n",
        "\n",
        "for column in dt_full.columns:\n",
        "    if pd.api.types.is_numeric_dtype(dt_full[column]):\n",
        "        num_col.append(column)\n",
        "    elif pd.api.types.is_object_dtype(dt_full[column]):\n",
        "        cat_col.append(column)\n",
        "    else:\n",
        "        rest.append(column)\n",
        "\n",
        "print(\"연속형 변수:\", num_col)\n",
        "print(\"범주형 변수:\", cat_col)\n",
        "print(\"나머지 변수:\", rest)"
      ]
    },
    {
      "cell_type": "code",
      "execution_count": null,
      "metadata": {},
      "outputs": [],
      "source": [
        "dt_full = dt_full.replace('-', np.nan)\n",
        "\n",
        "for col in cat_col:\n",
        "    mode_fill_value = dt_full[col].mode().iloc[0]\n",
        "    dt_full[col] = dt_full[col].fillna(mode_fill_value)\n",
        "\n",
        "# mean_cols에 있는 각 컬럼들의 결측치를 해당 컬럼의 평균값으로 채우기\n",
        "for col in num_col:\n",
        "    try:\n",
        "        mean_fill_value = dt_full[col].mean()\n",
        "        dt_full[col] = dt_full[col].fillna(mean_fill_value)\n",
        "    except:pass\n",
        "dt_full.isnull().sum()"
      ]
    },
    {
      "cell_type": "code",
      "execution_count": null,
      "metadata": {},
      "outputs": [],
      "source": [
        "drop_cols3 = ['계약년월',\"계약년도\",\n",
        "             '평단가', '동평단가', '구평단가', '아파트평단가',\n",
        "             '아파트주소', '법정주소', '단지명',\n",
        "             '건축면적', 'k_세대타입분양형태', '월거래건수',\n",
        "             ]\n",
        "dt_full.drop(columns=drop_cols3, inplace=True)\n",
        "dt_full.columns\n",
        "dt_full_bak3=dt_full.copy()"
      ]
    },
    {
      "cell_type": "code",
      "execution_count": null,
      "metadata": {},
      "outputs": [],
      "source": [
        "dt_full_bak3.to_csv(f\"{data_path}/dt_full_모델링.csv\",index=False)"
      ]
    },
    {
      "cell_type": "markdown",
      "metadata": {
        "id": "uXfXRevr3dfe"
      },
      "source": [
        "# 4. Model Training"
      ]
    },
    {
      "cell_type": "markdown",
      "metadata": {},
      "source": [
        "## 모델 저장 및 로드"
      ]
    },
    {
      "cell_type": "code",
      "execution_count": null,
      "metadata": {},
      "outputs": [],
      "source": [
        "def save_model(name,model):\n",
        "    with open(f'{model_path}/{name}.pkl', 'wb') as f:\n",
        "        pickle.dump(model, f)\n",
        "    print(\"Save Success\")\n",
        "    \n",
        "def load_model(name):\n",
        "    with open(f'{model_path}/{name}.pkl', 'rb') as f:\n",
        "        model = pickle.load(f)\n",
        "    return model"
      ]
    },
    {
      "cell_type": "markdown",
      "metadata": {},
      "source": [
        "## 4-1. LightGBM"
      ]
    },
    {
      "cell_type": "code",
      "execution_count": null,
      "metadata": {},
      "outputs": [],
      "source": [
        "dt_full=pd.read_csv(f\"{data_path}/dt_full_모델링.csv\")\n",
        "\n",
        "Logtarget=True # 타겟과 최근거래가를 로그화할지 말지"
      ]
    },
    {
      "cell_type": "markdown",
      "metadata": {},
      "source": [
        "### 4-1-1.타겟 로그화"
      ]
    },
    {
      "cell_type": "code",
      "execution_count": null,
      "metadata": {},
      "outputs": [],
      "source": [
        "if(Logtarget==True):\n",
        "    print(\"Target and recenttarget log transform\")\n",
        "    dt_full['target']=np.log1p(dt_full['target'])\n",
        "    try: dt_full['최근거래가']=np.log1p(dt_full['최근거래가'])\n",
        "    except:pass\n",
        "\n",
        "def transform_log(pred,target=None):\n",
        "    if(Logtarget==True):\n",
        "        return np.expm1(pred),np.expm1(target)\n",
        "    else:\n",
        "        return pred,target"
      ]
    },
    {
      "cell_type": "markdown",
      "metadata": {},
      "source": [
        "### 4-1-1.년도 제거"
      ]
    },
    {
      "cell_type": "code",
      "execution_count": null,
      "metadata": {},
      "outputs": [],
      "source": [
        "# dt_full=dt_full[dt_full['계약년도']>2019]\n",
        "# dt_full.reset_index(drop=True,inplace=True)"
      ]
    },
    {
      "cell_type": "markdown",
      "metadata": {},
      "source": [
        "### 4-1-3.최종 drop 컬럼 결정하기 "
      ]
    },
    {
      "cell_type": "code",
      "execution_count": null,
      "metadata": {},
      "outputs": [],
      "source": [
        "dt_full.columns"
      ]
    },
    {
      "cell_type": "code",
      "execution_count": null,
      "metadata": {},
      "outputs": [],
      "source": [
        "drop_cols4=['최근거래가','실거래지수']\n",
        "dt_full.drop(drop_cols4,axis=1,inplace=True)"
      ]
    },
    {
      "cell_type": "code",
      "execution_count": null,
      "metadata": {},
      "outputs": [],
      "source": [
        "dt_full.columns"
      ]
    },
    {
      "cell_type": "markdown",
      "metadata": {},
      "source": [
        "### 4-1-4. Train, Test 분리"
      ]
    },
    {
      "cell_type": "code",
      "execution_count": null,
      "metadata": {},
      "outputs": [],
      "source": [
        "dt_train = dt_full[dt_full['is_test']==0]\n",
        "dt_test = dt_full[dt_full['is_test']==1]\n",
        "dt_test['target'] = 0\n",
        "\n",
        "dt_train.drop(['is_test'], axis = 1, inplace=True)\n",
        "dt_test.drop(['is_test'], axis = 1, inplace=True)\n",
        "print(dt_train.shape, dt_test.shape)\n",
        "assert dt_train.shape[1] == dt_test.shape[1] "
      ]
    },
    {
      "cell_type": "markdown",
      "metadata": {},
      "source": [
        "### 4-1-5. 라벨 인코딩"
      ]
    },
    {
      "cell_type": "code",
      "execution_count": null,
      "metadata": {},
      "outputs": [],
      "source": [
        "num_cols,cat_cols,rest = [],[],[]\n",
        "\n",
        "for column in dt_train.columns:\n",
        "    if pd.api.types.is_numeric_dtype(dt_train[column]): num_cols.append(column) # \n",
        "    elif pd.api.types.is_object_dtype(dt_train[column]): cat_cols.append(column)\n",
        "    else: rest.append(column)\n",
        "    \n",
        "print(\"연속형 변수:\", num_cols)\n",
        "print(\"범주형 변수:\", cat_cols)\n",
        "print(\"나머지 변수:\", rest)\n",
        "\n",
        "label_encoders = {}\n",
        "\n",
        "for col in tqdm(cat_cols):\n",
        "    if(col=='계약년월일'):continue\n",
        "    lbl = LabelEncoder()\n",
        "    lbl.fit( dt_train[col].astype(str) )\n",
        "    dt_train[col] = lbl.transform(dt_train[col].astype(str))\n",
        "    label_encoders[col] = lbl          \n",
        "    for label in np.unique(dt_test[col]):\n",
        "        if label not in lbl.classes_: \n",
        "            lbl.classes_ = np.append(lbl.classes_, label) \n",
        "    dt_test[col] = lbl.transform(dt_test[col].astype(str))\n",
        ";"
      ]
    },
    {
      "cell_type": "markdown",
      "metadata": {},
      "source": [
        "### 4-1-6. LGBM 모델 학습 및 검증"
      ]
    },
    {
      "cell_type": "code",
      "execution_count": null,
      "metadata": {},
      "outputs": [],
      "source": [
        "X_train = dt_train[dt_train['계약년월일'] < '2023-01-01'].drop(columns=['target', '계약년월일'])\n",
        "X_val = dt_train[dt_train['계약년월일'] >= '2023-01-01'].drop(columns=['target', '계약년월일'])\n",
        "y_train = dt_train[dt_train['계약년월일'] < '2023-01-01']['target']\n",
        "y_val = dt_train[dt_train['계약년월일'] >= '2023-01-01']['target']"
      ]
    },
    {
      "cell_type": "code",
      "execution_count": null,
      "metadata": {},
      "outputs": [],
      "source": [
        "gbm = lgb.LGBMRegressor(n_estimators=100000,                # early stopping을 적용하기에 적당히 많은 반복 횟수를 지정합니다.\n",
        "                        metric=\"rmse\",\n",
        "                        data_sample_strategy='goss',        # sampling 방법을 goss로 적용합니다.\n",
        "                        max_depth=15,                       # default값인 20에서 12로 변경합니다.\n",
        "                        num_leaves=2**7-1,                  # default값인 31에서 62으로 변경합니다. 2**depth > 2**5-1\n",
        "                        # min_data_in_leaf=40,              # default값인 20에서 40으로 변경합니다.\n",
        "                        min_child_samples=40,               # default값인 20에서 40으로 변경합니다.\n",
        "                        colsample_bytree= 0.7,\n",
        "                        subsample=0.7,\n",
        "                        learning_rate=0.15,\n",
        "                        random_state=42,\n",
        "                        )\n",
        "gbm.fit(X_train, y_train,\n",
        "        eval_set=[(X_train, y_train), (X_val, y_val)],\n",
        "        eval_metric ='rmse',\n",
        "        categorical_feature=\"auto\",\n",
        "        callbacks=[lgb.early_stopping(stopping_rounds=50),         # early stopping을 적용합니다. 50번동안 metirc의 개선이 없다면 학습을 중단합니다.\n",
        "                   lgb.log_evaluation(period=10, show_stdv=True)]  # 10번의 반복마다 평가점수를 로그에 나타냅니다.\n",
        ")\n",
        "model_path='../model' \n",
        "save_model(\"lgbm_log\",gbm)"
      ]
    },
    {
      "cell_type": "code",
      "execution_count": null,
      "metadata": {},
      "outputs": [],
      "source": [
        "val_pred=gbm.predict(X_val)\n",
        "val_pred,y_val=transform_log(val_pred,y_val)\n",
        "rmse = np.sqrt(mean_squared_error(y_val, val_pred))\n",
        "\n",
        "plt.figure(figsize=(20, 6))\n",
        "plt.title(\"검증 데이터\")\n",
        "plt.text(0.5, 0.9, f'RMSE: {rmse:.2f}', fontsize=20, ha='center', transform=plt.gca().transAxes)\n",
        "sns.lineplot(y_val.reset_index(drop=True), label='target', alpha=1)\n",
        "sns.lineplot(val_pred, label='pred', alpha=1)\n",
        "plt.grid()\n",
        "plt.show();"
      ]
    },
    {
      "cell_type": "code",
      "execution_count": null,
      "metadata": {},
      "outputs": [],
      "source": [
        "importances = pd.Series(gbm.feature_importances_, index=list(X_train.columns))\n",
        "importances = importances.sort_values(ascending=False)\n",
        "\n",
        "plt.figure(figsize=(10, 16))\n",
        "plt.title(\"Feature Importances\")\n",
        "sns.barplot(x=importances, y=importances.index)\n",
        "plt.show();"
      ]
    },
    {
      "cell_type": "markdown",
      "metadata": {},
      "source": [
        "### 4-1-7. LGBM 모델 추론"
      ]
    },
    {
      "cell_type": "code",
      "execution_count": null,
      "metadata": {},
      "outputs": [],
      "source": [
        "X_test = dt_test.drop(columns=['target', '계약년월일'])\n",
        "test_pred = gbm.predict(X_test)\n",
        "test_pred,_=transform_log(test_pred,0)\n",
        "rmse = np.sqrt(mean_squared_error(y_test, test_pred))\n",
        "\n",
        "plt.figure(figsize=(20, 6))\n",
        "plt.title(\"테스트 데이터\")\n",
        "plt.text(0.5, 0.9, f'RMSE: {rmse:.2f}', fontsize=20, ha='center', transform=plt.gca().transAxes)\n",
        "sns.lineplot(y_test.reset_index(drop=True), label='실제값', alpha=1)\n",
        "sns.lineplot(test_pred, label='예측값', alpha=1)\n",
        "plt.grid()\n",
        "plt.show();"
      ]
    },
    {
      "cell_type": "markdown",
      "metadata": {},
      "source": [
        "## 4-2.Catboost"
      ]
    },
    {
      "cell_type": "code",
      "execution_count": null,
      "metadata": {},
      "outputs": [],
      "source": [
        "dt_full=pd.read_csv(f\"{data_path}/dt_full_모델링.csv\")\n",
        "\n",
        "Logtarget=True # 타겟과 최근거래가를 로그화할지 말지"
      ]
    },
    {
      "cell_type": "markdown",
      "metadata": {},
      "source": [
        "### 4-2-1. 타겟 로그화"
      ]
    },
    {
      "cell_type": "code",
      "execution_count": null,
      "metadata": {},
      "outputs": [],
      "source": [
        "if(Logtarget==True):\n",
        "    print(\"Target and recenttarget log transform\")\n",
        "    dt_full['target']=np.log1p(dt_full['target'])\n",
        "    try: dt_full['최근거래가']=np.log1p(dt_full['최근거래가'])\n",
        "    except:pass\n",
        "\n",
        "def transform_log(pred,target=None):\n",
        "    if(Logtarget==True):\n",
        "        return np.expm1(pred),np.expm1(target)\n",
        "    else:\n",
        "        return pred,target"
      ]
    },
    {
      "cell_type": "markdown",
      "metadata": {},
      "source": [
        "### 4-2-2. 년도 제거"
      ]
    },
    {
      "cell_type": "code",
      "execution_count": null,
      "metadata": {},
      "outputs": [],
      "source": [
        "dt_full=dt_full[dt_full['계약년']>2019]\n",
        "dt_full.reset_index(drop=True,inplace=True)"
      ]
    },
    {
      "cell_type": "markdown",
      "metadata": {},
      "source": [
        "### 4-2-3. 최종 drop 컬럼 결정하기"
      ]
    },
    {
      "cell_type": "code",
      "execution_count": null,
      "metadata": {},
      "outputs": [],
      "source": [
        "dt_full.columns"
      ]
    },
    {
      "cell_type": "code",
      "execution_count": null,
      "metadata": {},
      "outputs": [],
      "source": [
        "drop_cols4=['시군구', '번지', '본번', '부번', '전용면적', '계약일', '도로명',\n",
        "       '거래유형', 'k_관리방식', 'k_복도유형', 'k_난방방식', 'k_전체동수', 'k_전체세대수', 'k_건설사시공사',\n",
        "       'k_시행사', 'k_연면적', 'k_주거전용면적', 'k_관리비부과면적', 'k_전용면적별세대현황60이하',\n",
        "       'k_전용면적별세대현황60_85이하', 'k_85_135이하', 'k_135초과', '세대전기계약방법', '주차대수',\n",
        "       '관리비_업로드', '분양세대수', '임대세대수',\n",
        "       '일반관리-인원', '경비관리-인원', '청소관리-인원', '전기-수전용량', '승강기', '지상주차대수', '지하주차대수',\n",
        "       'CCTV대수', '최고층수', '지하층수', '차량보유대수(전체)', '차량보유대수(전기차)', '계약년월일', \n",
        "       '풀아파트명', '주소',  '구순위', '동순위', '아파트순위', '3월평단가_std',\n",
        "       '3월평단가_skew', '3월평단가_kurt', '신축여부', '세대당주차대수', '세대당승강기대수',\n",
        "       '고층도', '동세대수', '월거래건수_mean', '월거래건수_std', '월거래건수_skew', '월거래건수_kurt',\n",
        "       '아파트거래횟수5', '전용면적_mean', '전용면적_std', '전용면적_kurt', '전용면적_size',\n",
        "       '전용면적범주_0', '전용면적범주_1', '전용면적범주_2', '전용면적범주_3', '전용면적범주_4', '범주4비율',\n",
        "       '이전계약_diff', ]\n",
        "dt_full.drop(drop_cols4,axis=1,inplace=True)"
      ]
    },
    {
      "cell_type": "code",
      "execution_count": null,
      "metadata": {},
      "outputs": [],
      "source": [
        "dt_full.columns"
      ]
    },
    {
      "cell_type": "markdown",
      "metadata": {},
      "source": [
        "### 4-2-4. Train,Test 분리"
      ]
    },
    {
      "cell_type": "code",
      "execution_count": null,
      "metadata": {},
      "outputs": [],
      "source": [
        "dt_train = dt_full[dt_full['is_test']==0]\n",
        "dt_test = dt_full[dt_full['is_test']==1]\n",
        "dt_test['target'] = 0\n",
        "\n",
        "dt_train.drop(['is_test'], axis = 1, inplace=True)\n",
        "dt_test.drop(['is_test'], axis = 1, inplace=True)\n",
        "print(dt_train.shape, dt_test.shape)\n",
        "assert dt_train.shape[1] == dt_test.shape[1] "
      ]
    },
    {
      "cell_type": "markdown",
      "metadata": {},
      "source": [
        "### 4-2-5. 범주형 변수 선택 "
      ]
    },
    {
      "cell_type": "code",
      "execution_count": null,
      "metadata": {},
      "outputs": [],
      "source": [
        "num_cols,cat_cols,rest = [],[],[]\n",
        "\n",
        "for column in dt_train.columns:\n",
        "    if pd.api.types.is_numeric_dtype(dt_train[column]): num_cols.append(column) # \n",
        "    elif pd.api.types.is_object_dtype(dt_train[column]): cat_cols.append(column)\n",
        "    else: rest.append(column)\n",
        "    \n",
        "print(\"연속형 변수:\", num_cols)\n",
        "print(\"범주형 변수:\", cat_cols)\n",
        "print(\"나머지 변수:\", rest)"
      ]
    },
    {
      "cell_type": "markdown",
      "metadata": {},
      "source": [
        "### 4-2-6. Catboost 모델 학습 및 검증"
      ]
    },
    {
      "cell_type": "markdown",
      "metadata": {},
      "source": [
        "#### Optuna"
      ]
    },
    {
      "cell_type": "code",
      "execution_count": null,
      "metadata": {},
      "outputs": [],
      "source": [
        "def objective(trial, X, y):\n",
        "\n",
        "    cbrm_param = {\n",
        "        'iterations':trial.suggest_int(\"iterations\", 400, 1200),\n",
        "        'od_wait':trial.suggest_int('od_wait', 500, 2300),\n",
        "        'learning_rate' : trial.suggest_uniform('learning_rate',0.01, 1),\n",
        "        'reg_lambda': trial.suggest_uniform('reg_lambda',1e-5,100),\n",
        "        'random_strength': trial.suggest_uniform('random_strength',10,50),\n",
        "        'depth': trial.suggest_int('depth',3, 7),\n",
        "        'min_data_in_leaf': trial.suggest_int('min_data_in_leaf',1,30),\n",
        "        'leaf_estimation_iterations': trial.suggest_int('leaf_estimation_iterations',1,15),\n",
        "        'bagging_temperature' :trial.suggest_loguniform('bagging_temperature', 0.01, 100.00),\n",
        "    }\n",
        "    model = CatBoostRegressor(**cbrm_param,random_state=624,task_type=\"GPU\")\n",
        "\n",
        "    folds = KFold(n_splits=5, random_state=624, shuffle=True)\n",
        "    losses = []\n",
        "\n",
        "    for train_idx, valid_idx in folds.split(X, y):\n",
        "        X_train = X.iloc[train_idx, :]\n",
        "        y_train = y.iloc[train_idx]\n",
        "\n",
        "        X_valid = X.iloc[valid_idx, :]\n",
        "        y_valid = y.iloc[valid_idx]\n",
        "\n",
        "        model.fit(X_train, y_train, eval_set=[(X_valid, y_valid)], early_stopping_rounds=25,cat_features=cat_cols)\n",
        "        preds = model.predict(X_valid)\n",
        "        loss = np.sqrt(mean_squared_error(y_valid, preds))\n",
        "        losses.append(loss)\n",
        "        \n",
        "    return np.mean(losses)\n",
        "\n",
        "def make_tune_model(train_data):\n",
        "    opt_func = partial(objective, X=train_data[0], y=train_data[1]) \n",
        "    K = 5 \n",
        "    sampler = TPESampler(seed=624)\n",
        "    \n",
        "    study = optuna.create_study(direction=\"minimize\", sampler=sampler)\n",
        "\n",
        "    study.optimize(opt_func, n_trials=30)\n",
        "    \n",
        "    print(\"Tuned train Score: %.4f\" % study.best_value) # best score 출력\n",
        "    print(\"Tuned params: \", study.best_trial.params) # best score일 때의 하이퍼파라미터들\n",
        "    \n",
        "    best_params = study.best_params\n",
        "    best_model = CatBoostRegressor(**best_params,random_state=624,task_type=\"GPU\")\n",
        "    best_model.fit(train_data[0], train_data[1],cat_features=cat_cols)\n",
        "    \n",
        "    return best_model"
      ]
    },
    {
      "cell_type": "markdown",
      "metadata": {},
      "source": [
        "#### 4-2-6-1. 전체 학습"
      ]
    },
    {
      "cell_type": "code",
      "execution_count": null,
      "metadata": {},
      "outputs": [],
      "source": [
        "model_path=\"../model\"\n",
        "\n",
        "X_train=dt_train.drop(['target'], axis=1)\n",
        "y_train=dt_train['target']\n",
        "#model=make_tune_model([X_train,y_train])\n",
        "#save_model('Total',model)\n",
        "model=load_model('Total')\n",
        "best_params = model.get_params()\n",
        "model = CatBoostRegressor(**best_params)\n",
        "model.fit(X_train, y_train,cat_features=cat_cols)\n",
        "save_model('Total',model)"
      ]
    },
    {
      "cell_type": "code",
      "execution_count": null,
      "metadata": {},
      "outputs": [],
      "source": [
        "model=load_model('Total')\n",
        "importances = pd.Series(model.feature_importances_, index=list(X_train.columns))\n",
        "importances = importances.sort_values(ascending=False)\n",
        "\n",
        "plt.figure(figsize=(10,8))\n",
        "plt.title(\"Feature Importances\")\n",
        "sns.barplot(x=importances, y=importances.index)\n",
        "plt.show();"
      ]
    },
    {
      "cell_type": "code",
      "execution_count": null,
      "metadata": {},
      "outputs": [],
      "source": [
        "y_pred=model.predict(X_train)\n",
        "y_pred,y_train=transform_log(y_pred,y_train)\n",
        "result=pd.DataFrame({'pred': y_pred, 'target': y_train})\n",
        "\n",
        "plt.figure(figsize=(20, 6))\n",
        "plt.plot(result.index, result['target'], label='Target')\n",
        "plt.plot(result.index, result['pred'], label='Predictions', marker='x')\n",
        "plt.title(f'Train Result by Total')\n",
        "plt.xlabel('Index')\n",
        "plt.ylabel('Values')\n",
        "plt.legend()\n",
        "plt.grid(True)\n",
        "plt.show();"
      ]
    },
    {
      "cell_type": "markdown",
      "metadata": {},
      "source": [
        "#### 4-2-6-2. 구별 학습 "
      ]
    },
    {
      "cell_type": "code",
      "execution_count": null,
      "metadata": {},
      "outputs": [],
      "source": [
        "model_path=\"../model/구별\"\n",
        "gu_col=dt_train['구'].unique()\n",
        "model_list=[]\n",
        "\n",
        "for gu in gu_col:\n",
        "    tmp_train=dt_train[dt_train['구']==gu]\n",
        "    X_train=tmp_train.drop(['target'], axis=1)\n",
        "    y_train=tmp_train['target']\n",
        "    \n",
        "    # model=make_tune_model([X_train,y_train])\n",
        "    # save_model(f'{gu}',model)\n",
        "    model=load_model(f'Catboost_{gu}')\n",
        "    best_params = model.get_params()\n",
        "    model = CatBoostRegressor(**best_params)\n",
        "    model.fit(X_train, y_train,cat_features=cat_cols)\n",
        "    save_model(f'Catboost_{gu}',model)\n",
        "    \n",
        "    model_list.append(model)"
      ]
    },
    {
      "cell_type": "code",
      "execution_count": null,
      "metadata": {
        "colab": {
          "base_uri": "https://localhost:8080/",
          "height": 698
        },
        "id": "VbgCRxFgdFQb",
        "outputId": "f9114f72-78e1-471c-fc0b-ba5b8b6b6d2f"
      },
      "outputs": [],
      "source": [
        "for gu in gu_col:\n",
        "    model=load_model(f\"Catboost_{gu}\")\n",
        "    importances = pd.Series(model.feature_importances_, index=list(X_train.columns))\n",
        "    importances = importances.sort_values(ascending=False)\n",
        "\n",
        "    plt.figure(figsize=(10,8))\n",
        "    plt.title(f\"{gu} Feature Importances\")\n",
        "    sns.barplot(x=importances, y=importances.index)\n",
        "    plt.show();"
      ]
    },
    {
      "cell_type": "code",
      "execution_count": null,
      "metadata": {},
      "outputs": [],
      "source": [
        "answer=[]\n",
        "for gu in gu_col:\n",
        "    tmp_train=dt_train[dt_train['구']==gu]\n",
        "    X_train=tmp_train.drop(['target'], axis=1)\n",
        "    y_train=tmp_train['target']\n",
        "    \n",
        "    idx=X_train.index.copy()\n",
        "    model=load_model(f'Catboost_{gu}')\n",
        "    \n",
        "    gu_pred = model.predict(X_train)\n",
        "    \n",
        "    gu_pred,y_train=transform_log(gu_pred,y_train)\n",
        "    gu_pred=pd.DataFrame({'pred': gu_pred, 'target': y_train})\n",
        "    gu_pred['idx']=idx\n",
        "    answer.append(gu_pred)\n",
        "    \n",
        "gu_result = pd.concat(answer)\n",
        "gu_result = gu_result.sort_values(by='idx')\n",
        "gu_result.drop(['idx'],axis=1,inplace=True)\n",
        "gu_result.reset_index(drop=True,inplace=True)"
      ]
    },
    {
      "cell_type": "code",
      "execution_count": null,
      "metadata": {},
      "outputs": [],
      "source": [
        "plt.figure(figsize=(20, 6))\n",
        "plt.plot(gu_result.index, gu_result['target'], label='Target')\n",
        "plt.plot(gu_result.index, gu_result['pred'], label='Predictions', marker='x')\n",
        "plt.title(f'Train Result by GU')\n",
        "plt.xlabel('Index')\n",
        "plt.ylabel('Values')\n",
        "plt.legend()\n",
        "plt.grid(True)\n",
        "plt.show();"
      ]
    },
    {
      "cell_type": "markdown",
      "metadata": {},
      "source": [
        "#### 4-2-6-3.면적별 학습"
      ]
    },
    {
      "cell_type": "code",
      "execution_count": null,
      "metadata": {},
      "outputs": [],
      "source": [
        "model_path=\"../model/면적별\"\n",
        "size_col=dt_train['전용면적범주'].unique()\n",
        "model_list=[]\n",
        "\n",
        "for size in size_col:\n",
        "    tmp_train=dt_train[dt_train['전용면적범주']==size]\n",
        "    X_train=tmp_train.drop(['target'], axis=1)\n",
        "    y_train=tmp_train['target']\n",
        "    \n",
        "    # model=make_tune_model([X_train,y_train])\n",
        "    # save_model(f'size_{size}',model)\n",
        "    \n",
        "    model=load_model(f'Catboost{size}')\n",
        "    best_params = model.get_params()\n",
        "    model = CatBoostRegressor(**best_params)\n",
        "    model.fit(X_train, y_train,cat_features=cat_cols)\n",
        "    save_model(f'Catboost_{size}',model)\n",
        "    \n",
        "    model_list.append(model)"
      ]
    },
    {
      "cell_type": "code",
      "execution_count": null,
      "metadata": {},
      "outputs": [],
      "source": [
        "for size in size_col:\n",
        "    model=load_model(f'Catboost_{size}')\n",
        "    importances = pd.Series(model.feature_importances_, index=list(X_train.columns))\n",
        "    importances = importances.sort_values(ascending=False)\n",
        "\n",
        "    plt.figure(figsize=(10,8))\n",
        "    plt.title(f\"{size} Feature Importances\")\n",
        "    sns.barplot(x=importances, y=importances.index)\n",
        "    plt.show();"
      ]
    },
    {
      "cell_type": "code",
      "execution_count": null,
      "metadata": {},
      "outputs": [],
      "source": [
        "model_list=[]\n",
        "\n",
        "answer=[]\n",
        "for size in size_col:\n",
        "    tmp_train=dt_train[dt_train['전용면적범주']==size]\n",
        "    X_train=tmp_train.drop(['target'], axis=1)\n",
        "    y_train=tmp_train['target']\n",
        "    \n",
        "    idx=X_train.index.copy()\n",
        "    model=load_model(f'Catboost_{size}')\n",
        "    \n",
        "    size_pred = model.predict(X_train)\n",
        "    size_pred,y_train=transform_log(size_pred,y_train)\n",
        "    \n",
        "    size_pred=pd.DataFrame({'pred': size_pred, 'target': y_train})\n",
        "    size_pred['idx']=idx\n",
        "    answer.append(size_pred)\n",
        "    \n",
        "size_result = pd.concat(answer)\n",
        "size_result = size_result.sort_values(by='idx')\n",
        "size_result.drop(['idx'],axis=1,inplace=True)\n",
        "size_result.reset_index(drop=True,inplace=True)"
      ]
    },
    {
      "cell_type": "code",
      "execution_count": null,
      "metadata": {},
      "outputs": [],
      "source": [
        "plt.figure(figsize=(20, 6))\n",
        "plt.plot(size_result.index, size_result['target'], label='Target')\n",
        "plt.plot(size_result.index, size_result['pred'], label='Predictions', marker='x')\n",
        "plt.title(f'Train Result by SIZE')\n",
        "plt.xlabel('Index')\n",
        "plt.ylabel('Values')\n",
        "plt.legend()\n",
        "plt.grid(True)\n",
        "plt.show();"
      ]
    },
    {
      "cell_type": "markdown",
      "metadata": {},
      "source": [
        "### 4-2-7. Catboost 모델 추론"
      ]
    },
    {
      "cell_type": "markdown",
      "metadata": {},
      "source": [
        "#### 4-2-7-1. 전체 추론"
      ]
    },
    {
      "cell_type": "code",
      "execution_count": null,
      "metadata": {},
      "outputs": [],
      "source": [
        "model_path=\"../model\"\n",
        "model=load_model(\"Total\")\n",
        "X_test = dt_test.drop(['target'], axis=1)\n",
        "total_pred = model.predict(X_test)\n",
        "total_pred,_=transform_log(total_pred,0)\n",
        "total_result = pd.DataFrame(total_pred.astype(int), columns=[\"target\"])\n",
        "total_result.head(3)"
      ]
    },
    {
      "cell_type": "code",
      "execution_count": null,
      "metadata": {},
      "outputs": [],
      "source": [
        "rmse = np.sqrt(mean_squared_error(y_test, total_result['target']))\n",
        "\n",
        "plt.figure(figsize=(20, 6))\n",
        "plt.text(0.5, 0.9, f'RMSE: {rmse:.2f}', fontsize=20, ha='center', transform=plt.gca().transAxes)\n",
        "plt.plot(total_result.index,y_test, label='Target')\n",
        "plt.plot(total_result.index, total_result['target'], label='Pred')\n",
        "plt.xlabel('Index')\n",
        "plt.ylabel('Values')\n",
        "plt.legend()\n",
        "plt.ylim(0, 1800000)\n",
        "plt.yticks([i for i in range(0, 1800001, 250000)])\n",
        "plt.title(\"Test set Predict by TOTAL\")\n",
        "plt.grid(True)\n",
        "plt.show();\n",
        "#total_result.to_csv(f'{submission_path}/20240123_Cat_optuna_total.csv', index=False);"
      ]
    },
    {
      "cell_type": "markdown",
      "metadata": {},
      "source": [
        "#### 4-2-7-2. 구별 추론"
      ]
    },
    {
      "cell_type": "code",
      "execution_count": null,
      "metadata": {},
      "outputs": [],
      "source": [
        "model_path=\"../model/구별\"\n",
        "gu_col=dt_train['구'].unique()\n",
        "model_list=[]\n",
        "\n",
        "answer=[]\n",
        "for gu in gu_col:\n",
        "    tmp_test=dt_test[dt_test['구']==gu]\n",
        "    X_test=tmp_test.drop(['target'], axis=1)\n",
        "    \n",
        "    idx=X_test.index.copy()\n",
        "    model=load_model(f\"Catboost_{gu}\")\n",
        "\n",
        "    gu_pred = model.predict(X_test)\n",
        "    gu_pred,_=transform_log(gu_pred,0)\n",
        "    \n",
        "    gu_pred=pd.DataFrame({'target': gu_pred.astype(int)})\n",
        "    gu_pred['idx']=idx\n",
        "    answer.append(gu_pred)\n",
        "    \n",
        "gu_result = pd.concat(answer)\n",
        "gu_result = gu_result.sort_values(by='idx')\n",
        "gu_result.drop(['idx'],axis=1,inplace=True)\n",
        "gu_result.reset_index(drop=True,inplace=True)\n",
        "gu_result.head(3)"
      ]
    },
    {
      "cell_type": "code",
      "execution_count": null,
      "metadata": {},
      "outputs": [],
      "source": [
        "rmse = np.sqrt(mean_squared_error(y_test, gu_result['target']))\n",
        "\n",
        "plt.figure(figsize=(20, 6))\n",
        "plt.text(0.5, 0.9, f'RMSE: {rmse:.2f}', fontsize=20, ha='center', transform=plt.gca().transAxes)\n",
        "plt.plot(gu_result.index,y_test, label='Target')\n",
        "plt.plot(gu_result.index, gu_result['target'], label='Pred')\n",
        "plt.xlabel('Index')\n",
        "plt.ylabel('Values')\n",
        "plt.legend()\n",
        "plt.ylim(0, 1800000)\n",
        "plt.yticks([i for i in range(0, 1800001, 250000)])\n",
        "plt.title(\"Test set Predict by Gu\")\n",
        "plt.grid(True)\n",
        "plt.show();\n",
        "#gu_result.to_csv(f'{submission_path}/20240123_Cat_optuna_gu.csv', index=False);"
      ]
    },
    {
      "cell_type": "markdown",
      "metadata": {},
      "source": [
        "#### 4-2-7-3. 면적별 추론"
      ]
    },
    {
      "cell_type": "code",
      "execution_count": null,
      "metadata": {},
      "outputs": [],
      "source": [
        "model_path=\"../model/면적별\"\n",
        "size_col=dt_train['전용면적범주'].unique()\n",
        "model_list=[]\n",
        "\n",
        "answer=[]\n",
        "for size in size_col:\n",
        "    tmp_test=dt_test[dt_test['전용면적범주']==size]\n",
        "    X_test=tmp_test.drop(['target'], axis=1)\n",
        "\n",
        "    idx=X_test.index.copy()\n",
        "    model=load_model(f\"Catboost_{size}\")\n",
        "    \n",
        "    size_pred = model.predict(X_test)\n",
        "    size_pred,_=transform_log(size_pred,0)\n",
        "\n",
        "    size_pred=pd.DataFrame({'target': size_pred.astype(int)})\n",
        "    size_pred['idx']=idx\n",
        "    answer.append(size_pred)\n",
        "    \n",
        "size_result = pd.concat(answer)\n",
        "size_result = size_result.sort_values(by='idx')\n",
        "size_result.drop(['idx'],axis=1,inplace=True)\n",
        "size_result.reset_index(drop=True,inplace=True)\n",
        "size_result.head(3)"
      ]
    },
    {
      "cell_type": "code",
      "execution_count": null,
      "metadata": {},
      "outputs": [],
      "source": [
        "rmse = np.sqrt(mean_squared_error(y_test, size_result['target']))\n",
        "\n",
        "plt.figure(figsize=(20, 6))\n",
        "plt.text(0.5, 0.9, f'RMSE: {rmse:.2f}', fontsize=20, ha='center', transform=plt.gca().transAxes)\n",
        "plt.plot(size_result.index,y_test, label='Target')\n",
        "plt.plot(size_result.index, size_result['target'], label='Pred')\n",
        "plt.xlabel('Index')\n",
        "plt.ylabel('Values')\n",
        "plt.legend()\n",
        "plt.ylim(0, 1800000)\n",
        "plt.yticks([i for i in range(0, 1800001, 250000)])\n",
        "plt.title(\"Test set Predict by SIZE\")\n",
        "plt.grid(True)\n",
        "plt.show();\n",
        "#size_result.to_csv(f'{submission_path}/20240123_Cat_optuna_size.csv', index=False);"
      ]
    },
    {
      "cell_type": "markdown",
      "metadata": {},
      "source": [
        "# 6. Experiment"
      ]
    },
    {
      "cell_type": "code",
      "execution_count": null,
      "metadata": {},
      "outputs": [],
      "source": [
        "plt.figure(figsize=(20, 6))\n",
        "plt.plot(adjust_result.index, adjust_result['target'], label='Target')\n",
        "plt.xlabel('Index')\n",
        "plt.ylabel('Values')\n",
        "plt.ylim(0, 1800000)\n",
        "plt.yticks([i for i in range(0, 1800001, 250000)])\n",
        "plt.legend()\n",
        "plt.title(\"Test set Predict*Weight\")\n",
        "plt.grid(True)\n",
        "plt.show();\n",
        "#adjust_result.to_csv(f'{submission_path}/20240121_cat_by gu_recent+adjust.csv', index=False);"
      ]
    },
    {
      "cell_type": "markdown",
      "metadata": {},
      "source": [
        "#### 가중치 조절 size별 모델"
      ]
    },
    {
      "cell_type": "code",
      "execution_count": null,
      "metadata": {},
      "outputs": [],
      "source": [
        "dt_test_tmp=dt_test.copy()\n",
        "\n",
        "model_path=\"../model\"\n",
        "dt_train.columns\n",
        "model=load_model(\"Total\")\n",
        "X_test = dt_test_tmp.drop(['target'], axis=1)\n",
        "size_tmp=X_test['전용면적범주'].values\n",
        "total_pred = model.predict(X_test)\n",
        "total_pred  = np.expm1(total_pred )\n",
        "total_result = pd.DataFrame(total_pred.astype(int), columns=[\"target\"])\n",
        "#total_result['전용면적범주']=size_tmp\n",
        "#total_result['real_target']=test_target\n",
        "total_result.head(3)\n",
        "#total_result=total_result.sort_values(by='전용면적범주',ignore_index=True)\n",
        "\n",
        "\n",
        "total_result.loc[total_result['target'] > 0, 'target'] *= 1.1\n",
        "#rmse = np.sqrt(mean_squared_error(total_result['real_target'], total_result['target']))\n",
        "\n",
        "plt.figure(figsize=(20, 6))\n",
        "#plt.text(0.5, 0.9, f'RMSE: {rmse:.2f}', fontsize=20, ha='center', transform=plt.gca().transAxes)\n",
        "#plt.plot(total_result.index,total_result['real_target'], label='Target')\n",
        "plt.plot(total_result.index, total_result['target'], label='Pred')\n",
        "plt.xlabel('Index')\n",
        "plt.ylabel('Values')\n",
        "plt.legend()\n",
        "plt.ylim(0, 1800000)\n",
        "plt.yticks([i for i in range(0, 1800001, 250000)])\n",
        "plt.title(\"Test set Predict by total\")\n",
        "plt.grid(True)\n",
        "plt.show();\n",
        "#size_result.to_csv(f'{submission_path}/20240123_Cat_optuna_size.csv', index=False);"
      ]
    },
    {
      "cell_type": "code",
      "execution_count": null,
      "metadata": {},
      "outputs": [],
      "source": [
        "total_result['target']=total_result['target'].astype('int')\n",
        "total_result.to_csv(f'{submission_path}/20240123_Cat_optuna_total_1_1.csv', index=False);"
      ]
    },
    {
      "cell_type": "code",
      "execution_count": null,
      "metadata": {},
      "outputs": [],
      "source": [
        "our=pd.read_csv(\"../submission/20240123_Cat_optuna_total_1_1.csv\")\n",
        "hyo=pd.read_csv(\"sub.csv\")\n",
        "base=pd.read_csv(\"baseline.csv.csv\")\n",
        "yc=pd.read_csv(\"youngcheon.csv\")"
      ]
    },
    {
      "cell_type": "code",
      "execution_count": null,
      "metadata": {},
      "outputs": [],
      "source": [
        "plt.figure(figsize=(20, 6))\n",
        "#plt.plot(our.index, our['target'], label='our')\n",
        "#plt.plot(hyo.index, hyo['target'], label='hyo')\n",
        "plt.plot(yc.index, yc['target'], label='yc')\n",
        "plt.plot(our.index, our['target'], label='our')\n",
        "plt.title('Real Target')\n",
        "plt.xlabel('Index')\n",
        "plt.ylabel('Values')\n",
        "plt.ylim(0, 1800000)\n",
        "plt.yticks([i for i in range(0, 1800001, 250000)])\n",
        "plt.legend()\n",
        "plt.grid(True)\n",
        "plt.show();"
      ]
    },
    {
      "cell_type": "code",
      "execution_count": null,
      "metadata": {},
      "outputs": [],
      "source": [
        "RMSE = mean_squared_error(our['target'], hyo['target'])**0.5\n",
        "RMSE"
      ]
    }
  ],
  "metadata": {
    "colab": {
      "provenance": []
    },
    "kernelspec": {
      "display_name": "Python 3.10.13 ('base')",
      "language": "python",
      "name": "python3"
    },
    "language_info": {
      "codemirror_mode": {
        "name": "ipython",
        "version": 3
      },
      "file_extension": ".py",
      "mimetype": "text/x-python",
      "name": "python",
      "nbconvert_exporter": "python",
      "pygments_lexer": "ipython3",
      "version": "3.11.5"
    },
    "vscode": {
      "interpreter": {
        "hash": "d4d1e4263499bec80672ea0156c357c1ee493ec2b1c70f0acce89fc37c4a6abe"
      }
    }
  },
  "nbformat": 4,
  "nbformat_minor": 0
}
